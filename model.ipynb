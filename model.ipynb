{
 "cells": [
  {
   "cell_type": "code",
   "execution_count": 94,
   "metadata": {},
   "outputs": [],
   "source": [
    "import cv2\n",
    "import numpy as np\n",
    "\n",
    "def image_processing(i):\n",
    "\n",
    "    # Load the captcha image\n",
    "    image = cv2.imread(f'/home/maverick/Downloads/assn2/train/{i}.png')\n",
    "\n",
    "    # Define the four corner regions\n",
    "    corner_regions = [\n",
    "        image[:1, :1],\n",
    "        image[:1, -1:],\n",
    "        image[-1:, :1],\n",
    "        image[-1:, -1:]\n",
    "    ]\n",
    "\n",
    "    # Calculate the mean color for each corner region\n",
    "    mean_colors = []\n",
    "    for region in corner_regions:\n",
    "        mean_color = np.mean(region, axis=(0, 1))\n",
    "        mean_colors.append(mean_color)\n",
    "\n",
    "    # Find the maximum occurring color among the corner colors\n",
    "    corner_color_counts = {}\n",
    "    for color in mean_colors:\n",
    "        color_key = tuple(color)\n",
    "        if color_key in corner_color_counts:\n",
    "            corner_color_counts[color_key] += 1\n",
    "        else:\n",
    "            corner_color_counts[color_key] = 1\n",
    "\n",
    "    max_occuring_color = max(corner_color_counts, key=corner_color_counts.get)\n",
    "\n",
    "    # Convert the mean color to the HSV color space\n",
    "    max_occuring_color_hsv = cv2.cvtColor(np.uint8([[max_occuring_color]]), cv2.COLOR_BGR2HSV)[0][0]\n",
    "\n",
    "    # Define the exact range for the background color (tolerance = 0)\n",
    "    lower_range = np.array([max_occuring_color_hsv[0], max_occuring_color_hsv[1], max_occuring_color_hsv[2]], dtype=np.uint8)\n",
    "    upper_range = np.array([max_occuring_color_hsv[0], max_occuring_color_hsv[1], max_occuring_color_hsv[2]], dtype=np.uint8)\n",
    "\n",
    "    # Convert the image to the HSV color space\n",
    "    hsv_image = cv2.cvtColor(image, cv2.COLOR_BGR2HSV)\n",
    "\n",
    "    # Create a binary mask by thresholding the image based on the defined range\n",
    "    mask = cv2.inRange(hsv_image, lower_range, upper_range)\n",
    "\n",
    "    # Dilate the mask to expand the foreground regions and remove the background\n",
    "    kernel = cv2.getStructuringElement(cv2.MORPH_RECT, (3, 3))\n",
    "    dilated = cv2.dilate(mask, kernel, iterations=2)\n",
    "\n",
    "    # Apply Canny edge detection to detect edges\n",
    "    edges = cv2.Canny(dilated, 100, 200)\n",
    "\n",
    "    # Apply morphological dilation to make the edges thicker\n",
    "    kernel = cv2.getStructuringElement(cv2.MORPH_RECT, (2, 2))\n",
    "    thick_edges = cv2.dilate(edges, kernel, iterations=3)\n",
    "\n",
    "    # Invert the colors of the image\n",
    "    inverted_edges = cv2.bitwise_not(thick_edges)\n",
    "\n",
    "    # Define the coordinates for the segment extraction\n",
    "    start_x = 350\n",
    "    end_x = 450\n",
    "    start_y = 0\n",
    "    end_y = 100\n",
    "\n",
    "    # Extract the segment from the image\n",
    "    segment = inverted_edges[start_y:end_y, start_x:end_x]\n",
    "\n",
    "    # Save the resulting image with white background\n",
    "    cv2.imwrite(f'/home/maverick/Downloads/assn2/output/final_{i}.png', segment)\n",
    "\n",
    "\n",
    "\n",
    "# Process the image for training\n",
    "for i in range(0,2000):\n",
    "    image_processing(i)\n",
    "\n"
   ]
  },
  {
   "cell_type": "code",
   "execution_count": 95,
   "metadata": {},
   "outputs": [],
   "source": [
    "file = open( \"/home/maverick/Downloads/assn2/train/labels.txt\", \"r\" )\n",
    "label_train = file.read().splitlines()\n",
    "file.close()\n",
    "label_train = np.array(label_train)"
   ]
  },
  {
   "cell_type": "code",
   "execution_count": 96,
   "metadata": {},
   "outputs": [
    {
     "name": "stdout",
     "output_type": "stream",
     "text": [
      "Accuracy: 1.0\n"
     ]
    }
   ],
   "source": [
    "from PIL import Image\n",
    "from sklearn.model_selection import train_test_split\n",
    "from sklearn.svm import SVC\n",
    "from sklearn.metrics import classification_report\n",
    "from sklearn.metrics import accuracy_score\n",
    "from sklearn.neighbors import KNeighborsClassifier\n",
    "\n",
    "data_dir = '/home/maverick/Downloads/assn2/output/'\n",
    "\n",
    "image_size = (100, 100)\n",
    "# Load the images and convert them to grayscale\n",
    "images = []\n",
    "for i in range(2000):\n",
    "    image_path = f'{data_dir}final_{i}.png'\n",
    "    image = Image.open(image_path).convert(\"L\")\n",
    "    image = np.array(image.resize(image_size)).flatten()  # Resize to specified size and flatten\n",
    "    images.append(image)\n",
    "\n",
    "# Step 2: Split the dataset into training and testing sets\n",
    "# X_train, X_test, y_train, y_test = train_test_split(images, labels, test_size=0, random_state=42)\n",
    "\n",
    "img2 = images[0:1900]\n",
    "label2_train = label_train[0:1900]\n",
    "img2_test = images[1900:2000]\n",
    "labels_test = label_train[1900:2000]\n",
    "\n",
    "\n",
    "clf = SVC(kernel=\"linear\")\n",
    "clf.fit(img2, label2_train)\n",
    "\n",
    "# Step 4: Predict the labels for the test set\n",
    "y_pred = clf.predict(img2_test)\n",
    "\n",
    "# Step 5: Evaluate the accuracy of the classifier\n",
    "accuracy = accuracy_score(labels_test, y_pred)\n",
    "print(\"Accuracy:\", accuracy)\n",
    "\n",
    "\n",
    "# # Step 4: Make predictions on the testing set\n",
    "# y_pred = clf.predict(X_test)\n",
    "\n",
    "# # Step 5: Evaluate the model\n",
    "# accuracy = accuracy_score(y_test,y_pred)\n",
    "# print(\"Accuracy:\", accuracy)"
   ]
  },
  {
   "cell_type": "code",
   "execution_count": 98,
   "metadata": {},
   "outputs": [
    {
     "name": "stdout",
     "output_type": "stream",
     "text": [
      "Accuracy: 1.0\n"
     ]
    }
   ],
   "source": [
    "k = 5  # Number of neighbors\n",
    "knn = KNeighborsClassifier(n_neighbors=k)\n",
    "knn.fit(img2,label2_train)\n",
    "\n",
    "# Step 4: Predict the labels for the test set\n",
    "y_pred = knn.predict(img2_test)\n",
    "\n",
    "# Step 5: Evaluate the accuracy of the classifier\n",
    "accuracy = accuracy_score(labels_test, y_pred)\n",
    "print(\"Accuracy:\", accuracy)"
   ]
  },
  {
   "cell_type": "code",
   "execution_count": 100,
   "metadata": {},
   "outputs": [
    {
     "name": "stdout",
     "output_type": "stream",
     "text": [
      "Accuracy: 0.99\n"
     ]
    }
   ],
   "source": [
    "from sklearn.tree import DecisionTreeClassifier\n",
    "dt = DecisionTreeClassifier()\n",
    "\n",
    "# Train the decision tree classifier\n",
    "dt.fit(img2, label2_train)\n",
    "\n",
    "# Make predictions on the test set\n",
    "y_pred = dt.predict(img2_test)\n",
    "\n",
    "# Calculate the accuracy of the model\n",
    "accuracy = accuracy_score(labels_test, y_pred)\n",
    "print(\"Accuracy:\", accuracy)"
   ]
  },
  {
   "cell_type": "code",
   "execution_count": 102,
   "metadata": {},
   "outputs": [
    {
     "name": "stdout",
     "output_type": "stream",
     "text": [
      "Accuracy: 1.0\n"
     ]
    },
    {
     "name": "stderr",
     "output_type": "stream",
     "text": [
      "/home/maverick/.local/lib/python3.11/site-packages/sklearn/linear_model/_logistic.py:460: ConvergenceWarning: lbfgs failed to converge (status=1):\n",
      "STOP: TOTAL NO. of ITERATIONS REACHED LIMIT.\n",
      "\n",
      "Increase the number of iterations (max_iter) or scale the data as shown in:\n",
      "    https://scikit-learn.org/stable/modules/preprocessing.html\n",
      "Please also refer to the documentation for alternative solver options:\n",
      "    https://scikit-learn.org/stable/modules/linear_model.html#logistic-regression\n",
      "  n_iter_i = _check_optimize_result(\n"
     ]
    }
   ],
   "source": [
    "from sklearn.linear_model import LogisticRegression\n",
    "\n",
    "lr = LogisticRegression()\n",
    "\n",
    "# Train the decision tree classifier\n",
    "lr.fit(img2, label2_train)\n",
    "\n",
    "# Make predictions on the test set\n",
    "y_pred = lr.predict(img2_test)\n",
    "\n",
    "# Calculate the accuracy of the model\n",
    "accuracy = accuracy_score(labels_test, y_pred)\n",
    "print(\"Accuracy:\", accuracy)"
   ]
  },
  {
   "cell_type": "code",
   "execution_count": 103,
   "metadata": {},
   "outputs": [],
   "source": [
    "import pickle\n",
    "\n",
    "# Assuming you have a trained model called \"model\"\n",
    "model = lr  # Your trained model object\n",
    "\n",
    "# Define the file path to store the model\n",
    "model_file = '/home/maverick/Downloads/assn2/model_lr.pkl'\n",
    "\n",
    "# Save the model to a file\n",
    "with open(model_file, 'wb') as file:\n",
    "    pickle.dump(model, file)"
   ]
  }
 ],
 "metadata": {
  "kernelspec": {
   "display_name": "Python 3",
   "language": "python",
   "name": "python3"
  },
  "language_info": {
   "codemirror_mode": {
    "name": "ipython",
    "version": 3
   },
   "file_extension": ".py",
   "mimetype": "text/x-python",
   "name": "python",
   "nbconvert_exporter": "python",
   "pygments_lexer": "ipython3",
   "version": "3.11.3"
  },
  "orig_nbformat": 4
 },
 "nbformat": 4,
 "nbformat_minor": 2
}
